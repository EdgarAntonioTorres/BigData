{
 "cells": [
  {
   "cell_type": "code",
   "execution_count": 1,
   "id": "e0c8d0f8",
   "metadata": {},
   "outputs": [],
   "source": [
    "import requests\n",
    "import json\n",
    "from IPython.display import JSON\n",
    "from keys import *"
   ]
  },
  {
   "cell_type": "code",
   "execution_count": null,
   "id": "1756bc20",
   "metadata": {},
   "outputs": [],
   "source": [
    "#Be careful not to run too often as there is a maximum of 200 api calls per month\n",
    "\n",
    "#Barcelona airport code LEBL\n",
    "url = \"https://aerodatabox.p.rapidapi.com/flights/airports/icao/LEBL/2025-09-01T08:00/2025-09-01T20:00\"\n",
    "\n",
    "querystring = {\"withLeg\":\"true\",\"direction\":\"Arrival\",\"withCancelled\":\"true\",\"withCodeshared\":\"true\",\"withCargo\":\"true\",\"withPrivate\":\"true\",\"withLocation\":\"false\"}\n",
    "\n",
    "headers = {\n",
    "    'x-rapidapi-host': \"aerodatabox.p.rapidapi.com\",\n",
    "    'x-rapidapi-key': flights_key\n",
    "    }\n",
    "\n",
    "response = requests.request(\"GET\", url, headers=headers, params=querystring)"
   ]
  },
  {
   "cell_type": "code",
   "execution_count": null,
   "id": "b963ee7b",
   "metadata": {},
   "outputs": [
    {
     "name": "stdout",
     "output_type": "stream",
     "text": [
      "Data appended to data.json file.\n"
     ]
    }
   ],
   "source": [
    "# Comprueba si la solicitud a la API fue exitosa (código de estado 200)\n",
    "if response.status_code == 200:\n",
    "    # Convierte la respuesta de la API a formato JSON (diccionario o lista de Python)\n",
    "    new_data = response.json()\n",
    "\n",
    "    try:\n",
    "        with open(\"data.json\", \"r\") as json_file:\n",
    "            existing_data = json.load(json_file)\n",
    "    except (FileNotFoundError, json.decoder.JSONDecodeError):\n",
    "        existing_data = []\n",
    "    \n",
    "    # Agrega los nuevos datos descargados a la lista de datos existentes\n",
    "    existing_data.append(new_data)\n",
    "\n",
    "    with open(\"data.json\", \"w\") as json_file:\n",
    "        json.dump(existing_data, json_file, indent=4)\n",
    "        print(\"Data appended to data.json file.\")\n",
    "else:\n",
    "    print(\"Failed to retrieve data from the API. Status code:\", response.status_code)"
   ]
  },
  {
   "cell_type": "code",
   "execution_count": null,
   "id": "c925c64d",
   "metadata": {},
   "outputs": [],
   "source": [
    "# Convierte la respuesta de la API a un diccionario o lista de Python\n",
    "flight_arrivals = response.json()\n",
    "\n",
    "# Accede a la lista de vuelos de llegada y extrae la información de cada vuelo\n",
    "for flight in flight_arrivals:\n",
    "    flight_arrivals['arrivals'][0]['arrival']['scheduledTime']\n",
    "    flight_arrivals['arrivals'][0]['number']\n",
    "    flight_arrivals['arrivals'][0]['arrival']['terminal']\n",
    "    flight_arrivals['arrivals'][0]['departure']['airport']['name']\n",
    "    flight_arrivals['arrivals'][0]['aircraft']['model']\n",
    "    flight_arrivals['arrivals'][0]['airline']['name']"
   ]
  },
  {
   "cell_type": "code",
   "execution_count": null,
   "id": "3de0119d",
   "metadata": {},
   "outputs": [
    {
     "data": {
      "text/html": [
       "<div>\n",
       "<style scoped>\n",
       "    .dataframe tbody tr th:only-of-type {\n",
       "        vertical-align: middle;\n",
       "    }\n",
       "\n",
       "    .dataframe tbody tr th {\n",
       "        vertical-align: top;\n",
       "    }\n",
       "\n",
       "    .dataframe thead th {\n",
       "        text-align: right;\n",
       "    }\n",
       "</style>\n",
       "<table border=\"1\" class=\"dataframe\">\n",
       "  <thead>\n",
       "    <tr style=\"text-align: right;\">\n",
       "      <th></th>\n",
       "      <th>flight_number</th>\n",
       "      <th>from</th>\n",
       "      <th>airline</th>\n",
       "      <th>aircraft</th>\n",
       "      <th>Scheduled_arrival_time.utc</th>\n",
       "      <th>Scheduled_arrival_time.local</th>\n",
       "    </tr>\n",
       "  </thead>\n",
       "  <tbody>\n",
       "    <tr>\n",
       "      <th>0</th>\n",
       "      <td>IB 5127</td>\n",
       "      <td>Palma De Mallorca</td>\n",
       "      <td>Iberia</td>\n",
       "      <td>Airbus A320</td>\n",
       "      <td>2025-09-01 06:20Z</td>\n",
       "      <td>2025-09-01 08:20+02:00</td>\n",
       "    </tr>\n",
       "    <tr>\n",
       "      <th>0</th>\n",
       "      <td>VY 3907</td>\n",
       "      <td>Palma De Mallorca</td>\n",
       "      <td>Vueling</td>\n",
       "      <td>Airbus A320</td>\n",
       "      <td>2025-09-01 06:20Z</td>\n",
       "      <td>2025-09-01 08:20+02:00</td>\n",
       "    </tr>\n",
       "    <tr>\n",
       "      <th>0</th>\n",
       "      <td>LA 5876</td>\n",
       "      <td>Palma De Mallorca</td>\n",
       "      <td>LATAM</td>\n",
       "      <td>Airbus A320</td>\n",
       "      <td>2025-09-01 06:20Z</td>\n",
       "      <td>2025-09-01 08:20+02:00</td>\n",
       "    </tr>\n",
       "    <tr>\n",
       "      <th>0</th>\n",
       "      <td>VY 6109</td>\n",
       "      <td>Rome</td>\n",
       "      <td>Vueling</td>\n",
       "      <td>Airbus A320 NEO</td>\n",
       "      <td>2025-09-01 06:15Z</td>\n",
       "      <td>2025-09-01 08:15+02:00</td>\n",
       "    </tr>\n",
       "    <tr>\n",
       "      <th>0</th>\n",
       "      <td>QR 3667</td>\n",
       "      <td>Rome</td>\n",
       "      <td>Qatar</td>\n",
       "      <td>Airbus A320 NEO</td>\n",
       "      <td>2025-09-01 06:15Z</td>\n",
       "      <td>2025-09-01 08:15+02:00</td>\n",
       "    </tr>\n",
       "  </tbody>\n",
       "</table>\n",
       "</div>"
      ],
      "text/plain": [
       "  flight_number               from  airline         aircraft  \\\n",
       "0       IB 5127  Palma De Mallorca   Iberia      Airbus A320   \n",
       "0       VY 3907  Palma De Mallorca  Vueling      Airbus A320   \n",
       "0       LA 5876  Palma De Mallorca    LATAM      Airbus A320   \n",
       "0       VY 6109               Rome  Vueling  Airbus A320 NEO   \n",
       "0       QR 3667               Rome    Qatar  Airbus A320 NEO   \n",
       "\n",
       "  Scheduled_arrival_time.utc Scheduled_arrival_time.local  \n",
       "0          2025-09-01 06:20Z       2025-09-01 08:20+02:00  \n",
       "0          2025-09-01 06:20Z       2025-09-01 08:20+02:00  \n",
       "0          2025-09-01 06:20Z       2025-09-01 08:20+02:00  \n",
       "0          2025-09-01 06:15Z       2025-09-01 08:15+02:00  \n",
       "0          2025-09-01 06:15Z       2025-09-01 08:15+02:00  "
      ]
     },
     "execution_count": 5,
     "metadata": {},
     "output_type": "execute_result"
    }
   ],
   "source": [
    "# El código extrae datos de vuelos desde una respuesta JSON, construye un  DataFrame con información clave y concatena todos los registros para mostrar las primeras filas.\n",
    "\n",
    "import pandas as pd\n",
    "from numpy import nan\n",
    "\n",
    "flight_arrivals = response.json()\n",
    "\n",
    "def flight_extraction(flights):\n",
    "    flights_df = pd.json_normalize({\n",
    "        'Scheduled_arrival_time': flights['arrival']['scheduledTime'],\n",
    "        'flight_number': flights['number'],\n",
    "        'from' : flights['departure']['airport']['name'],\n",
    "        'airline' : flights['airline']['name'],\n",
    "        'aircraft' : flights['aircraft']['model']\n",
    "    })\n",
    "    return(flights_df)\n",
    "\n",
    "flight_arrivals = pd.concat(\n",
    "    [flight_extraction(flight) for flight in flight_arrivals['arrivals']]\n",
    ")\n",
    "\n",
    "flight_arrivals.head()"
   ]
  },
  {
   "cell_type": "code",
   "execution_count": null,
   "id": "dc940546",
   "metadata": {},
   "outputs": [],
   "source": []
  }
 ],
 "metadata": {
  "kernelspec": {
   "display_name": "base",
   "language": "python",
   "name": "python3"
  },
  "language_info": {
   "codemirror_mode": {
    "name": "ipython",
    "version": 3
   },
   "file_extension": ".py",
   "mimetype": "text/x-python",
   "name": "python",
   "nbconvert_exporter": "python",
   "pygments_lexer": "ipython3",
   "version": "3.13.5"
  }
 },
 "nbformat": 4,
 "nbformat_minor": 5
}
