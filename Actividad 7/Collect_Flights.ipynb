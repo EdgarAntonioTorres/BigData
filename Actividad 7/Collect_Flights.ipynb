{
 "cells": [
  {
   "cell_type": "code",
   "execution_count": 1,
   "id": "e0c8d0f8",
   "metadata": {},
   "outputs": [],
   "source": [
    "import requests\n",
    "import json\n",
    "from IPython.display import JSON\n",
    "from keys import *\n",
    "import pandas as pd\n",
    "from datetime import datetime"
   ]
  },
  {
   "cell_type": "code",
   "execution_count": 2,
   "id": "1756bc20",
   "metadata": {},
   "outputs": [],
   "source": [
    "#Be careful not to run too often as there is a maximum of 200 api calls per month\n",
    "\n",
    "#Barcelona airport code LEBL\n",
    "url = \"https://aerodatabox.p.rapidapi.com/flights/airports/icao/LEBL/2025-09-01T08:00/2025-09-01T20:00\"\n",
    "\n",
    "querystring = {\"withLeg\": \"true\", \"direction\": \"Arrival\", \"withCancelled\": \"true\", \"withCodeshared\": \"true\", \"withCargo\": \"true\", \"withPrivate\": \"true\", \"withLocation\": \"false\"}\n",
    "\n",
    "headers = {\n",
    "    'x-rapidapi-host': \"aerodatabox.p.rapidapi.com\",\n",
    "    'x-rapidapi-key': flights_key\n",
    "    }\n",
    "\n",
    "response = requests.request(\"GET\", url, headers=headers, params=querystring)"
   ]
  },
  {
   "cell_type": "code",
   "execution_count": 3,
   "id": "b963ee7b",
   "metadata": {},
   "outputs": [
    {
     "name": "stdout",
     "output_type": "stream",
     "text": [
      "  scheduled_arrival_time flight_number       from_airport  airline  \\\n",
      "0    2025-09-01 08:20:00       IB 5127  Palma De Mallorca   Iberia   \n",
      "1    2025-09-01 08:20:00       LA 5876  Palma De Mallorca    LATAM   \n",
      "2    2025-09-01 08:20:00       VY 3907  Palma De Mallorca  Vueling   \n",
      "3    2025-09-01 08:15:00       V7 2344     Brest/Guipavas  Volotea   \n",
      "4    2025-09-01 08:15:00       VY 6109               Rome  Vueling   \n",
      "\n",
      "          aircraft icao_code  \n",
      "0      Airbus A320      LEBL  \n",
      "1      Airbus A320      LEBL  \n",
      "2      Airbus A320      LEBL  \n",
      "3      Airbus A320      LEBL  \n",
      "4  Airbus A320 NEO      LEBL  \n",
      "\n",
      "Total flights: 823\n",
      "\n",
      "Column types:\n",
      "scheduled_arrival_time    datetime64[ns]\n",
      "flight_number                     object\n",
      "from_airport                      object\n",
      "airline                           object\n",
      "aircraft                          object\n",
      "icao_code                         object\n",
      "dtype: object\n",
      "\n",
      "Sample datetime value: 2025-09-01 08:20:00\n",
      "Type: <class 'pandas._libs.tslibs.timestamps.Timestamp'>\n"
     ]
    }
   ],
   "source": [
    "# Comprueba si la solicitud a la API fue exitosa (código de estado 200)\n",
    "if response.status_code == 200:\n",
    "    flight_arrivals = response.json()\n",
    "    \n",
    "    data_list = []\n",
    "    for flight in flight_arrivals['arrivals']:\n",
    "        data_list.append({\n",
    "            'scheduled_arrival_time': flight['arrival']['scheduledTime']['local'],\n",
    "            'flight_number': flight['number'],\n",
    "            'from_airport': flight['departure']['airport']['name'],\n",
    "            'airline': flight['airline']['name'],\n",
    "            'aircraft': flight['aircraft']['model'],\n",
    "            'icao_code': 'LEBL'\n",
    "        })\n",
    "    \n",
    "    df = pd.DataFrame(data_list)\n",
    "    df['scheduled_arrival_time'] = pd.to_datetime(df['scheduled_arrival_time']).dt.tz_localize(None)\n",
    "    \n",
    "    print(df.head())\n",
    "    print(f\"\\nTotal flights: {len(df)}\")\n",
    "    print(f\"\\nColumn types:\\n{df.dtypes}\")\n",
    "    print(f\"\\nSample datetime value: {df['scheduled_arrival_time'].iloc[0]}\")\n",
    "    print(f\"Type: {type(df['scheduled_arrival_time'].iloc[0])}\")\n",
    "else:\n",
    "    print(\"Failed to retrieve data from the API. Status code:\", response.status_code)"
   ]
  },
  {
   "cell_type": "code",
   "execution_count": 4,
   "id": "c925c64d",
   "metadata": {},
   "outputs": [],
   "source": [
    "import sqlalchemy\n",
    "import pymysql\n",
    "\n",
    "schema = \"gans\"\n",
    "host = \"127.0.0.1\"\n",
    "user = \"root\"\n",
    "password = \"gomaYjeff2705-\"\n",
    "port = 3306\n",
    "con = f'mysql+pymysql://{user}:{password}@{host}:{port}/{schema}'"
   ]
  },
  {
   "cell_type": "code",
   "execution_count": 6,
   "id": "3de0119d",
   "metadata": {},
   "outputs": [
    {
     "name": "stdout",
     "output_type": "stream",
     "text": [
      "Rows inserted: 823\n"
     ]
    }
   ],
   "source": [
    "# Send the flight data to the database\n",
    "rows_inserted = df.to_sql('flight_arrival', if_exists='append', con=con, index=False)\n",
    "print(f\"Rows inserted: {rows_inserted}\")"
   ]
  }
 ],
 "metadata": {
  "kernelspec": {
   "display_name": "base",
   "language": "python",
   "name": "python3"
  },
  "language_info": {
   "codemirror_mode": {
    "name": "ipython",
    "version": 3
   },
   "file_extension": ".py",
   "mimetype": "text/x-python",
   "name": "python",
   "nbconvert_exporter": "python",
   "pygments_lexer": "ipython3",
   "version": "3.13.5"
  }
 },
 "nbformat": 4,
 "nbformat_minor": 5
}
