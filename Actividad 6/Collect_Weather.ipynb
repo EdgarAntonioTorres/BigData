{
 "cells": [
  {
   "cell_type": "code",
   "execution_count": null,
   "id": "c5ea870f",
   "metadata": {},
   "outputs": [],
   "source": [
    "import requests\n",
    "import pandas as pd\n",
    "import numpy as np\n",
    "from keys import *\n",
    "\n",
    "# Realiza una solicitud a la API de OpenWeather para obtener el pronóstico meteorológico de la ciudad 'Girona' en España\n",
    "city = \"Barcelona\"\n",
    "country = \"ES\"\n",
    "response = requests.get(f'http://api.openweathermap.org/data/2.5/forecast/?q={city},{country}&appid={OWM_key}&units=metric&lang=en')"
   ]
  },
  {
   "cell_type": "code",
   "execution_count": 2,
   "id": "f2ffb4de",
   "metadata": {},
   "outputs": [],
   "source": [
    "data = response.json()"
   ]
  },
  {
   "cell_type": "code",
   "execution_count": null,
   "id": "ea7c2e74",
   "metadata": {},
   "outputs": [],
   "source": [
    "# Obtiene la lista de previsiones meteorológicas del diccionario 'data'\n",
    "forecast_list = data.get('list', [])"
   ]
  },
  {
   "cell_type": "code",
   "execution_count": null,
   "id": "b39591ec",
   "metadata": {},
   "outputs": [],
   "source": [
    "#  Este bloque de código extrae información meteorológica relevante y la almacena en listas separadas\n",
    "times = []\n",
    "temperatures = []\n",
    "humidities = []\n",
    "weather_statuses = []\n",
    "wind_speeds = []\n",
    "rain_volumes = []\n",
    "snow_volumes = []\n",
    "\n",
    "for entry in forecast_list:\n",
    "    times.append(entry.get('dt_txt', np.nan))\n",
    "    temperatures.append(entry.get('main', {}).get('temp', np.nan))\n",
    "    humidities.append(entry.get('main', {}).get('humidity', np.nan))\n",
    "    weather_statuses.append(entry.get('weather', [{}])[0].get('main', np.nan))\n",
    "    wind_speeds.append(entry.get('wind', {}).get('speed', np.nan))\n",
    "    rain_volumes.append(entry.get('rain', {}).get('3h', np.nan))\n",
    "    snow_volumes.append(entry.get('snow', {}).get('3h', np.nan))"
   ]
  },
  {
   "cell_type": "code",
   "execution_count": null,
   "id": "0c92cce5",
   "metadata": {},
   "outputs": [
    {
     "name": "stdout",
     "output_type": "stream",
     "text": [
      "                  time  temperature  humidity weather_status  wind_speed  \\\n",
      "0  2025-09-27 00:00:00        14.62        83         Clouds        0.65   \n",
      "1  2025-09-27 03:00:00        14.65        88         Clouds        0.17   \n",
      "2  2025-09-27 06:00:00        13.79        92         Clouds        0.65   \n",
      "3  2025-09-27 09:00:00        21.02        68          Clear        1.20   \n",
      "4  2025-09-27 12:00:00        23.02        49         Clouds        2.70   \n",
      "\n",
      "   rain_volume_3h  snow_volume_3h  \n",
      "0             NaN             NaN  \n",
      "1             NaN             NaN  \n",
      "2             NaN             NaN  \n",
      "3             NaN             NaN  \n",
      "4             NaN             NaN  \n"
     ]
    }
   ],
   "source": [
    "# Crear el dataframe\n",
    "df = pd.DataFrame({\n",
    "    'time': times,\n",
    "    'temperature': temperatures,\n",
    "    'humidity': humidities,\n",
    "    'weather_status': weather_statuses,\n",
    "    'wind_speed': wind_speeds,\n",
    "    'rain_volume_3h': rain_volumes,\n",
    "    'snow_volume_3h': snow_volumes\n",
    "})\n",
    "\n",
    "print(df.head())"
   ]
  }
 ],
 "metadata": {
  "kernelspec": {
   "display_name": "base",
   "language": "python",
   "name": "python3"
  },
  "language_info": {
   "codemirror_mode": {
    "name": "ipython",
    "version": 3
   },
   "file_extension": ".py",
   "mimetype": "text/x-python",
   "name": "python",
   "nbconvert_exporter": "python",
   "pygments_lexer": "ipython3",
   "version": "3.13.5"
  }
 },
 "nbformat": 4,
 "nbformat_minor": 5
}
